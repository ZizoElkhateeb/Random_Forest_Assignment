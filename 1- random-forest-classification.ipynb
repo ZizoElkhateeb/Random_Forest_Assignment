{
 "cells": [
  {
   "cell_type": "code",
   "execution_count": 1,
   "id": "impressed-matrix",
   "metadata": {
    "execution": {
     "iopub.execute_input": "2021-04-02T22:22:22.563046Z",
     "iopub.status.busy": "2021-04-02T22:22:22.562351Z",
     "iopub.status.idle": "2021-04-02T22:22:22.566295Z",
     "shell.execute_reply": "2021-04-02T22:22:22.565293Z"
    },
    "papermill": {
     "duration": 0.022372,
     "end_time": "2021-04-02T22:22:22.566507",
     "exception": false,
     "start_time": "2021-04-02T22:22:22.544135",
     "status": "completed"
    },
    "tags": []
   },
   "outputs": [],
   "source": [
    "# Importing the libraries\n",
    "import numpy as np\n",
    "import matplotlib.pyplot as plt\n",
    "import pandas as pd"
   ]
  },
  {
   "cell_type": "code",
   "execution_count": 2,
   "id": "classified-bride",
   "metadata": {
    "execution": {
     "iopub.execute_input": "2021-04-02T22:22:22.593292Z",
     "iopub.status.busy": "2021-04-02T22:22:22.592499Z",
     "iopub.status.idle": "2021-04-02T22:22:22.616902Z",
     "shell.execute_reply": "2021-04-02T22:22:22.617450Z"
    },
    "papermill": {
     "duration": 0.04061,
     "end_time": "2021-04-02T22:22:22.617668",
     "exception": false,
     "start_time": "2021-04-02T22:22:22.577058",
     "status": "completed"
    },
    "tags": []
   },
   "outputs": [],
   "source": [
    "# Importing the dataset\n",
    "dataset = pd.read_csv('../input/social-network-advertisements/Social_Network_Ads.csv')"
   ]
  },
  {
   "cell_type": "code",
   "execution_count": 3,
   "id": "interesting-catalyst",
   "metadata": {
    "execution": {
     "iopub.execute_input": "2021-04-02T22:22:22.653000Z",
     "iopub.status.busy": "2021-04-02T22:22:22.652226Z",
     "iopub.status.idle": "2021-04-02T22:22:22.671613Z",
     "shell.execute_reply": "2021-04-02T22:22:22.671035Z"
    },
    "papermill": {
     "duration": 0.044067,
     "end_time": "2021-04-02T22:22:22.671808",
     "exception": false,
     "start_time": "2021-04-02T22:22:22.627741",
     "status": "completed"
    },
    "tags": []
   },
   "outputs": [
    {
     "data": {
      "text/html": [
       "<div>\n",
       "<style scoped>\n",
       "    .dataframe tbody tr th:only-of-type {\n",
       "        vertical-align: middle;\n",
       "    }\n",
       "\n",
       "    .dataframe tbody tr th {\n",
       "        vertical-align: top;\n",
       "    }\n",
       "\n",
       "    .dataframe thead th {\n",
       "        text-align: right;\n",
       "    }\n",
       "</style>\n",
       "<table border=\"1\" class=\"dataframe\">\n",
       "  <thead>\n",
       "    <tr style=\"text-align: right;\">\n",
       "      <th></th>\n",
       "      <th>Age</th>\n",
       "      <th>EstimatedSalary</th>\n",
       "      <th>Purchased</th>\n",
       "    </tr>\n",
       "  </thead>\n",
       "  <tbody>\n",
       "    <tr>\n",
       "      <th>0</th>\n",
       "      <td>19</td>\n",
       "      <td>19000</td>\n",
       "      <td>0</td>\n",
       "    </tr>\n",
       "    <tr>\n",
       "      <th>1</th>\n",
       "      <td>35</td>\n",
       "      <td>20000</td>\n",
       "      <td>0</td>\n",
       "    </tr>\n",
       "    <tr>\n",
       "      <th>2</th>\n",
       "      <td>26</td>\n",
       "      <td>43000</td>\n",
       "      <td>0</td>\n",
       "    </tr>\n",
       "    <tr>\n",
       "      <th>3</th>\n",
       "      <td>27</td>\n",
       "      <td>57000</td>\n",
       "      <td>0</td>\n",
       "    </tr>\n",
       "    <tr>\n",
       "      <th>4</th>\n",
       "      <td>19</td>\n",
       "      <td>76000</td>\n",
       "      <td>0</td>\n",
       "    </tr>\n",
       "  </tbody>\n",
       "</table>\n",
       "</div>"
      ],
      "text/plain": [
       "   Age  EstimatedSalary  Purchased\n",
       "0   19            19000          0\n",
       "1   35            20000          0\n",
       "2   26            43000          0\n",
       "3   27            57000          0\n",
       "4   19            76000          0"
      ]
     },
     "execution_count": 3,
     "metadata": {},
     "output_type": "execute_result"
    }
   ],
   "source": [
    "# Displaying the dataset\n",
    "dataset.head()"
   ]
  },
  {
   "cell_type": "code",
   "execution_count": 4,
   "id": "cross-brazil",
   "metadata": {
    "execution": {
     "iopub.execute_input": "2021-04-02T22:22:22.700091Z",
     "iopub.status.busy": "2021-04-02T22:22:22.699372Z",
     "iopub.status.idle": "2021-04-02T22:22:22.703313Z",
     "shell.execute_reply": "2021-04-02T22:22:22.702683Z"
    },
    "papermill": {
     "duration": 0.020629,
     "end_time": "2021-04-02T22:22:22.703485",
     "exception": false,
     "start_time": "2021-04-02T22:22:22.682856",
     "status": "completed"
    },
    "tags": []
   },
   "outputs": [],
   "source": [
    "# Splitting the dataset features into X and y\n",
    "X = dataset.iloc[:, :-1].values\n",
    "y = dataset.iloc[:, -1].values"
   ]
  },
  {
   "cell_type": "code",
   "execution_count": 5,
   "id": "powerful-dietary",
   "metadata": {
    "execution": {
     "iopub.execute_input": "2021-04-02T22:22:22.731173Z",
     "iopub.status.busy": "2021-04-02T22:22:22.729637Z",
     "iopub.status.idle": "2021-04-02T22:22:24.021757Z",
     "shell.execute_reply": "2021-04-02T22:22:24.020415Z"
    },
    "papermill": {
     "duration": 1.308037,
     "end_time": "2021-04-02T22:22:24.021958",
     "exception": false,
     "start_time": "2021-04-02T22:22:22.713921",
     "status": "completed"
    },
    "tags": []
   },
   "outputs": [],
   "source": [
    "# Splitting the dataset into the Training set and Test set\n",
    "from sklearn.model_selection import train_test_split\n",
    "X_train, X_test, y_train, y_test = train_test_split(X, y, test_size = 0.25, random_state = 0)"
   ]
  },
  {
   "cell_type": "code",
   "execution_count": 6,
   "id": "commercial-luther",
   "metadata": {
    "execution": {
     "iopub.execute_input": "2021-04-02T22:22:24.050411Z",
     "iopub.status.busy": "2021-04-02T22:22:24.049773Z",
     "iopub.status.idle": "2021-04-02T22:22:24.055407Z",
     "shell.execute_reply": "2021-04-02T22:22:24.054906Z"
    },
    "papermill": {
     "duration": 0.022377,
     "end_time": "2021-04-02T22:22:24.055560",
     "exception": false,
     "start_time": "2021-04-02T22:22:24.033183",
     "status": "completed"
    },
    "tags": []
   },
   "outputs": [],
   "source": [
    "# Feature Scaling\n",
    "from sklearn.preprocessing import StandardScaler\n",
    "sc = StandardScaler()\n",
    "X_train = sc.fit_transform(X_train)\n",
    "X_test = sc.transform(X_test)"
   ]
  },
  {
   "cell_type": "code",
   "execution_count": 7,
   "id": "rational-framing",
   "metadata": {
    "execution": {
     "iopub.execute_input": "2021-04-02T22:22:24.083229Z",
     "iopub.status.busy": "2021-04-02T22:22:24.082336Z",
     "iopub.status.idle": "2021-04-02T22:22:24.380003Z",
     "shell.execute_reply": "2021-04-02T22:22:24.379396Z"
    },
    "papermill": {
     "duration": 0.314227,
     "end_time": "2021-04-02T22:22:24.380162",
     "exception": false,
     "start_time": "2021-04-02T22:22:24.065935",
     "status": "completed"
    },
    "tags": []
   },
   "outputs": [
    {
     "data": {
      "text/plain": [
       "RandomForestClassifier(criterion='entropy', n_estimators=10, random_state=0)"
      ]
     },
     "execution_count": 7,
     "metadata": {},
     "output_type": "execute_result"
    }
   ],
   "source": [
    "# Training the Random Forest Classification model on the Training set\n",
    "from sklearn.ensemble import RandomForestClassifier\n",
    "classifier = RandomForestClassifier(n_estimators = 10, criterion = 'entropy', random_state = 0)\n",
    "classifier.fit(X_train, y_train)"
   ]
  },
  {
   "cell_type": "code",
   "execution_count": 8,
   "id": "moving-single",
   "metadata": {
    "execution": {
     "iopub.execute_input": "2021-04-02T22:22:24.412079Z",
     "iopub.status.busy": "2021-04-02T22:22:24.411128Z",
     "iopub.status.idle": "2021-04-02T22:22:24.415668Z",
     "shell.execute_reply": "2021-04-02T22:22:24.415047Z"
    },
    "papermill": {
     "duration": 0.024579,
     "end_time": "2021-04-02T22:22:24.415849",
     "exception": false,
     "start_time": "2021-04-02T22:22:24.391270",
     "status": "completed"
    },
    "tags": []
   },
   "outputs": [
    {
     "name": "stdout",
     "output_type": "stream",
     "text": [
      "[0]\n"
     ]
    }
   ],
   "source": [
    "# Predicting a new result\n",
    "print(classifier.predict(sc.transform([[30,87000]])))"
   ]
  },
  {
   "cell_type": "code",
   "execution_count": 9,
   "id": "alternative-porter",
   "metadata": {
    "execution": {
     "iopub.execute_input": "2021-04-02T22:22:24.448962Z",
     "iopub.status.busy": "2021-04-02T22:22:24.446874Z",
     "iopub.status.idle": "2021-04-02T22:22:24.453482Z",
     "shell.execute_reply": "2021-04-02T22:22:24.452929Z"
    },
    "papermill": {
     "duration": 0.026121,
     "end_time": "2021-04-02T22:22:24.453640",
     "exception": false,
     "start_time": "2021-04-02T22:22:24.427519",
     "status": "completed"
    },
    "tags": []
   },
   "outputs": [
    {
     "name": "stdout",
     "output_type": "stream",
     "text": [
      "[[0 0]\n",
      " [0 0]\n",
      " [0 0]\n",
      " [0 0]\n",
      " [0 0]\n",
      " [0 0]\n",
      " [0 0]\n",
      " [1 1]\n",
      " [0 0]\n",
      " [1 0]\n",
      " [0 0]\n",
      " [0 0]\n",
      " [0 0]\n",
      " [0 0]\n",
      " [0 0]\n",
      " [1 0]\n",
      " [1 0]\n",
      " [0 0]\n",
      " [1 1]\n",
      " [0 0]\n",
      " [0 0]\n",
      " [1 1]\n",
      " [0 0]\n",
      " [1 1]\n",
      " [0 0]\n",
      " [0 1]\n",
      " [0 0]\n",
      " [0 0]\n",
      " [0 0]\n",
      " [0 0]\n",
      " [0 0]\n",
      " [0 1]\n",
      " [1 1]\n",
      " [0 0]\n",
      " [0 0]\n",
      " [0 0]\n",
      " [0 0]\n",
      " [0 0]\n",
      " [0 0]\n",
      " [1 1]\n",
      " [0 0]\n",
      " [0 0]\n",
      " [0 0]\n",
      " [0 0]\n",
      " [1 1]\n",
      " [0 0]\n",
      " [0 0]\n",
      " [1 1]\n",
      " [0 0]\n",
      " [1 1]\n",
      " [1 1]\n",
      " [0 0]\n",
      " [0 0]\n",
      " [1 0]\n",
      " [1 1]\n",
      " [1 1]\n",
      " [0 0]\n",
      " [0 0]\n",
      " [1 1]\n",
      " [0 0]\n",
      " [0 0]\n",
      " [1 1]\n",
      " [0 0]\n",
      " [1 1]\n",
      " [0 0]\n",
      " [1 1]\n",
      " [0 0]\n",
      " [0 0]\n",
      " [0 0]\n",
      " [0 0]\n",
      " [1 1]\n",
      " [0 0]\n",
      " [0 0]\n",
      " [1 1]\n",
      " [0 0]\n",
      " [0 0]\n",
      " [0 0]\n",
      " [0 0]\n",
      " [1 1]\n",
      " [1 1]\n",
      " [1 1]\n",
      " [1 0]\n",
      " [0 0]\n",
      " [0 0]\n",
      " [1 1]\n",
      " [0 1]\n",
      " [0 0]\n",
      " [1 1]\n",
      " [1 1]\n",
      " [0 0]\n",
      " [0 0]\n",
      " [1 1]\n",
      " [0 0]\n",
      " [0 0]\n",
      " [0 0]\n",
      " [0 1]\n",
      " [0 0]\n",
      " [1 1]\n",
      " [1 1]\n",
      " [1 1]]\n"
     ]
    }
   ],
   "source": [
    "# Predicting the Test set results\n",
    "y_pred = classifier.predict(X_test)\n",
    "print(np.concatenate((y_pred.reshape(len(y_pred),1), y_test.reshape(len(y_test),1)),1))"
   ]
  },
  {
   "cell_type": "code",
   "execution_count": 10,
   "id": "painted-brake",
   "metadata": {
    "execution": {
     "iopub.execute_input": "2021-04-02T22:22:24.489390Z",
     "iopub.status.busy": "2021-04-02T22:22:24.488608Z",
     "iopub.status.idle": "2021-04-02T22:22:24.494224Z",
     "shell.execute_reply": "2021-04-02T22:22:24.494757Z"
    },
    "papermill": {
     "duration": 0.029398,
     "end_time": "2021-04-02T22:22:24.494959",
     "exception": false,
     "start_time": "2021-04-02T22:22:24.465561",
     "status": "completed"
    },
    "tags": []
   },
   "outputs": [
    {
     "name": "stdout",
     "output_type": "stream",
     "text": [
      "[[63  5]\n",
      " [ 4 28]]\n"
     ]
    },
    {
     "data": {
      "text/plain": [
       "0.91"
      ]
     },
     "execution_count": 10,
     "metadata": {},
     "output_type": "execute_result"
    }
   ],
   "source": [
    "# Making the Confusion Matrix\n",
    "from sklearn.metrics import confusion_matrix, accuracy_score\n",
    "cm = confusion_matrix(y_test, y_pred)\n",
    "print(cm)\n",
    "accuracy_score(y_test, y_pred)"
   ]
  }
 ],
 "metadata": {
  "kernelspec": {
   "display_name": "Python 3 (ipykernel)",
   "language": "python",
   "name": "python3"
  },
  "language_info": {
   "codemirror_mode": {
    "name": "ipython",
    "version": 3
   },
   "file_extension": ".py",
   "mimetype": "text/x-python",
   "name": "python",
   "nbconvert_exporter": "python",
   "pygments_lexer": "ipython3",
   "version": "3.9.12"
  },
  "papermill": {
   "default_parameters": {},
   "duration": 238.639281,
   "end_time": "2021-04-02T22:26:13.974772",
   "environment_variables": {},
   "exception": null,
   "input_path": "__notebook__.ipynb",
   "output_path": "__notebook__.ipynb",
   "parameters": {},
   "start_time": "2021-04-02T22:22:15.335491",
   "version": "2.3.2"
  }
 },
 "nbformat": 4,
 "nbformat_minor": 5
}
